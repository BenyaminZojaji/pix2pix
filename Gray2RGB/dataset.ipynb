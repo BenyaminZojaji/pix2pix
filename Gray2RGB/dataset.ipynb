{
  "nbformat": 4,
  "nbformat_minor": 0,
  "metadata": {
    "colab": {
      "name": "RGB2Gray.ipynb",
      "provenance": [],
      "mount_file_id": "1wpNjQ_BPvhO9vtMZ9Ie9GzveSqAb91qG",
      "authorship_tag": "ABX9TyOX0qUc9/zpzxnUCQt71Pl3",
      "include_colab_link": true
    },
    "kernelspec": {
      "name": "python3",
      "display_name": "Python 3"
    },
    "language_info": {
      "name": "python"
    }
  },
  "cells": [
    {
      "cell_type": "markdown",
      "metadata": {
        "id": "view-in-github",
        "colab_type": "text"
      },
      "source": [
        "<a href=\"https://colab.research.google.com/github/BenyaminZojaji/pix2pix/blob/main/Gray2RGB/dataset.ipynb\" target=\"_parent\"><img src=\"https://colab.research.google.com/assets/colab-badge.svg\" alt=\"Open In Colab\"/></a>"
      ]
    },
    {
      "cell_type": "code",
      "execution_count": null,
      "metadata": {
        "id": "JApSz83WPnbO"
      },
      "outputs": [],
      "source": [
        "!mkdir ~/.kaggle\n",
        "!mv kaggle.json ~/.kaggle\n",
        "!ls -a ~/.kaggle"
      ]
    },
    {
      "cell_type": "code",
      "source": [
        "!kaggle datasets download -d shamsaddin97/image-captioning-dataset-random-images\n",
        "!unzip image-captioning-dataset-random-images.zip"
      ],
      "metadata": {
        "id": "jFu99L-8aMfz"
      },
      "execution_count": null,
      "outputs": []
    },
    {
      "cell_type": "code",
      "source": [
        "import os\n",
        "import cv2\n",
        "import numpy as np\n",
        "import matplotlib.pyplot as plt\n",
        "from tqdm import tqdm"
      ],
      "metadata": {
        "id": "0Uo_J22_a4us"
      },
      "execution_count": 3,
      "outputs": []
    },
    {
      "cell_type": "code",
      "source": [
        "height = width = 256"
      ],
      "metadata": {
        "id": "8NBTa3m1i0Zk"
      },
      "execution_count": 4,
      "outputs": []
    },
    {
      "cell_type": "code",
      "source": [
        "PATH = './images'\n",
        "\n",
        "for index, name in tqdm(enumerate(os.listdir(PATH))):\n",
        "  try:\n",
        "    img1 = cv2.imread(f'{PATH}/{name}')\n",
        "    #img1 = cv2.cvtColor(img1,cv2.COLOR_BGR2RGB)\n",
        "    img1 = cv2.resize(img1, (height, width))\n",
        "    res = np.zeros((256,512,3), dtype='uint8')\n",
        "    if img1.shape==(256, 256, 3):\n",
        "      res[:256,:256] = img1\n",
        "      img2 = cv2.cvtColor(img1,cv2.COLOR_RGB2GRAY)\n",
        "      img2 = cv2.merge((img2,img2,img2))\n",
        "      res[:256,256:] = img2\n",
        "\n",
        "      cv2.imwrite(f'/content/drive/MyDrive/Dataset/rgb-gray/{index}.jpg', res)\n",
        "  except:\n",
        "    print('\\nCouldn\\'t load this as an image: ', name)"
      ],
      "metadata": {
        "colab": {
          "base_uri": "https://localhost:8080/"
        },
        "id": "DDZWZK3LbeiH",
        "outputId": "2eaf9c37-5a9b-4167-fa87-b764d2bbee3c"
      },
      "execution_count": 5,
      "outputs": [
        {
          "output_type": "stream",
          "name": "stderr",
          "text": [
            "1150it [00:15, 78.59it/s]"
          ]
        },
        {
          "output_type": "stream",
          "name": "stdout",
          "text": [
            "\n",
            "Couldn't load this as an image:  image_captions.csv\n"
          ]
        },
        {
          "output_type": "stream",
          "name": "stderr",
          "text": [
            "2047it [00:26, 75.86it/s]\n"
          ]
        }
      ]
    }
  ]
}